{
 "cells": [
  {
   "cell_type": "markdown",
   "id": "fa983ee0-38b9-41fb-8033-bfb2d8948ba3",
   "metadata": {},
   "source": [
    "# lists"
   ]
  },
  {
   "cell_type": "code",
   "execution_count": 3,
   "id": "4076cc49-e359-4230-96f1-71424c70b66b",
   "metadata": {},
   "outputs": [],
   "source": [
    "l = [1, 2, 3, 4] # indexing starts from 0"
   ]
  },
  {
   "cell_type": "code",
   "execution_count": 5,
   "id": "fba1fe8b-4bd4-4319-95f2-52d5c0bd393c",
   "metadata": {},
   "outputs": [
    {
     "data": {
      "text/plain": [
       "4"
      ]
     },
     "execution_count": 5,
     "metadata": {},
     "output_type": "execute_result"
    }
   ],
   "source": [
    "l[3]"
   ]
  },
  {
   "cell_type": "code",
   "execution_count": 6,
   "id": "42643518-daf2-4b86-b683-dc345e41688b",
   "metadata": {},
   "outputs": [
    {
     "data": {
      "text/plain": [
       "4"
      ]
     },
     "execution_count": 6,
     "metadata": {},
     "output_type": "execute_result"
    }
   ],
   "source": [
    "\"\"\"negative indices\n",
    "starts from 0, goes to L-1\n",
    "but L-1 --> -1, L-2 --> -2 and so on\"\"\"\n",
    "l[-1]"
   ]
  },
  {
   "cell_type": "code",
   "execution_count": 9,
   "id": "ea9e55f8-8987-4ef7-aa68-7b2c13c8f70a",
   "metadata": {},
   "outputs": [
    {
     "name": "stdout",
     "output_type": "stream",
     "text": [
      "3 3\n"
     ]
    }
   ],
   "source": [
    "print(l[-2], l[2]) \n",
    "# L = 4, l[2] --> 3rd element, l[-2] --> 3rd element"
   ]
  },
  {
   "cell_type": "code",
   "execution_count": null,
   "id": "afebb41a-74b2-473d-a7e2-51571438ee15",
   "metadata": {},
   "outputs": [],
   "source": []
  },
  {
   "cell_type": "code",
   "execution_count": 11,
   "id": "677a2461-e638-4744-843d-8fc6e56b1668",
   "metadata": {},
   "outputs": [],
   "source": [
    "# a list can store objects of different datatypes\n",
    "l = [1, 'b', \"asdadas\", True, 1.0]"
   ]
  },
  {
   "cell_type": "code",
   "execution_count": null,
   "id": "b87cf921-4022-45e4-938f-0bfc9600877f",
   "metadata": {},
   "outputs": [],
   "source": []
  },
  {
   "cell_type": "code",
   "execution_count": 26,
   "id": "aa1a4d6f-73d5-473f-9f35-9ed26808d90b",
   "metadata": {},
   "outputs": [],
   "source": [
    "# create a list which starts from 0 and goes to 9\n",
    "l = list(range(0, 10)) # most likely does not use a python loop"
   ]
  },
  {
   "cell_type": "code",
   "execution_count": 18,
   "id": "8c8c9ed0-86ec-42e2-af69-a9d8101cc039",
   "metadata": {},
   "outputs": [
    {
     "data": {
      "text/plain": [
       "[0, 1, 2, 3, 4, 5, 6, 7, 8, 9]"
      ]
     },
     "execution_count": 18,
     "metadata": {},
     "output_type": "execute_result"
    }
   ],
   "source": [
    "l"
   ]
  },
  {
   "cell_type": "code",
   "execution_count": 27,
   "id": "fda9e860-cc71-48ff-b40f-ef210ccd14e2",
   "metadata": {},
   "outputs": [],
   "source": [
    "l = [i for i in range(0, 9)] # [0, 1, 2, 3, 4, 5, 6, 7, 8, 9].\n",
    "# very slow python loop"
   ]
  },
  {
   "cell_type": "code",
   "execution_count": 22,
   "id": "e31a56c8-c86c-4f4c-b9d3-2cc36fabb14f",
   "metadata": {},
   "outputs": [
    {
     "data": {
      "text/plain": [
       "[0, 1, 2, 3, 4, 5, 6, 7, 8]"
      ]
     },
     "execution_count": 22,
     "metadata": {},
     "output_type": "execute_result"
    }
   ],
   "source": [
    "l"
   ]
  },
  {
   "cell_type": "code",
   "execution_count": 23,
   "id": "e1f76431-5e95-4666-9e7e-695ba57516c5",
   "metadata": {},
   "outputs": [
    {
     "data": {
      "text/plain": [
       "[0, 1, 2, 3, 4, 5, 6, 7, 8, 9]"
      ]
     },
     "execution_count": 23,
     "metadata": {},
     "output_type": "execute_result"
    }
   ],
   "source": [
    "l = [] # empty list\n",
    "for i in range(0, 10):\n",
    "    l.append(i)\n",
    "l"
   ]
  },
  {
   "cell_type": "code",
   "execution_count": null,
   "id": "f5176a52-44d8-4ea4-b0f8-bc82d534739b",
   "metadata": {},
   "outputs": [],
   "source": []
  },
  {
   "cell_type": "code",
   "execution_count": 24,
   "id": "6e0d5111-72e2-41c2-8716-c9ded82bd448",
   "metadata": {},
   "outputs": [
    {
     "data": {
      "text/plain": [
       "[1, 3, 5, 7, 9]"
      ]
     },
     "execution_count": 24,
     "metadata": {},
     "output_type": "execute_result"
    }
   ],
   "source": [
    "# a list of odd numbers\n",
    "odd = [i for i in range(1, 10, 2)] # values will be incremented by 2\n",
    "odd"
   ]
  },
  {
   "cell_type": "code",
   "execution_count": 25,
   "id": "92354f46-2553-446f-b968-d294a068c68a",
   "metadata": {},
   "outputs": [
    {
     "data": {
      "text/plain": [
       "[0, 2, 4, 6, 8]"
      ]
     },
     "execution_count": 25,
     "metadata": {},
     "output_type": "execute_result"
    }
   ],
   "source": [
    "# a list of even numbers\n",
    "even = [i for i in range(0, 10, 2)] # values will be incremented by 2\n",
    "even"
   ]
  },
  {
   "cell_type": "code",
   "execution_count": null,
   "id": "bbb3db54-4845-4d48-b99f-9fe24e859238",
   "metadata": {},
   "outputs": [],
   "source": []
  },
  {
   "cell_type": "code",
   "execution_count": 30,
   "id": "6d7cc65c-b3f1-4cc8-a827-d54696a4c8a7",
   "metadata": {},
   "outputs": [
    {
     "name": "stdout",
     "output_type": "stream",
     "text": [
      "[1, 'a', 'asdadas', True, 1.0]\n"
     ]
    },
    {
     "data": {
      "text/plain": [
       "[1, 67, 'asdadas', True, 1.0]"
      ]
     },
     "execution_count": 30,
     "metadata": {},
     "output_type": "execute_result"
    }
   ],
   "source": [
    "l = [1, 'b', \"asdadas\", True, 1.0]\n",
    "l[1] = 'a' # the list l will be altered\n",
    "print(l)\n",
    "l[1] = 67\n",
    "l"
   ]
  },
  {
   "cell_type": "code",
   "execution_count": null,
   "id": "556dce21-a9e9-4f80-b9ee-772059542c23",
   "metadata": {},
   "outputs": [],
   "source": []
  },
  {
   "cell_type": "markdown",
   "id": "9318648a-fe0a-44dc-bd16-46b849de3c80",
   "metadata": {},
   "source": [
    "# tuple"
   ]
  },
  {
   "cell_type": "code",
   "execution_count": 40,
   "id": "7a37d4cf-e064-462d-92c5-8193aaa1af4f",
   "metadata": {},
   "outputs": [
    {
     "ename": "TypeError",
     "evalue": "'tuple' object does not support item assignment",
     "output_type": "error",
     "traceback": [
      "\u001b[0;31m---------------------------------------------------------------------------\u001b[0m",
      "\u001b[0;31mTypeError\u001b[0m                                 Traceback (most recent call last)",
      "Cell \u001b[0;32mIn[40], line 2\u001b[0m\n\u001b[1;32m      1\u001b[0m t \u001b[38;5;241m=\u001b[39m (\u001b[38;5;241m1\u001b[39m, \u001b[38;5;124m\"\u001b[39m\u001b[38;5;124ma\u001b[39m\u001b[38;5;124m\"\u001b[39m, \u001b[38;5;241m1.0\u001b[39m)\n\u001b[0;32m----> 2\u001b[0m \u001b[43mt\u001b[49m\u001b[43m[\u001b[49m\u001b[38;5;241;43m0\u001b[39;49m\u001b[43m]\u001b[49m \u001b[38;5;241m=\u001b[39m \u001b[38;5;241m2\u001b[39m \u001b[38;5;66;03m# tuples are immutable\u001b[39;00m\n",
      "\u001b[0;31mTypeError\u001b[0m: 'tuple' object does not support item assignment"
     ]
    }
   ],
   "source": [
    "t = (1, \"a\", 1.0)\n",
    "t[0] = 2 # tuples are immutable"
   ]
  },
  {
   "cell_type": "code",
   "execution_count": 37,
   "id": "af702fa3-5aab-4310-8e6a-7f484c576023",
   "metadata": {},
   "outputs": [],
   "source": [
    "N = (90,)"
   ]
  },
  {
   "cell_type": "code",
   "execution_count": 39,
   "id": "7753bc3c-8159-4e95-aa10-49d1825afb22",
   "metadata": {},
   "outputs": [
    {
     "data": {
      "text/plain": [
       "90"
      ]
     },
     "execution_count": 39,
     "metadata": {},
     "output_type": "execute_result"
    }
   ],
   "source": [
    "N[0]"
   ]
  },
  {
   "cell_type": "code",
   "execution_count": null,
   "id": "da20c0ae-0cf1-49ce-acee-8054ac725272",
   "metadata": {},
   "outputs": [],
   "source": []
  },
  {
   "cell_type": "markdown",
   "id": "011a1229-49d6-48af-9ef7-11d258a3df40",
   "metadata": {},
   "source": [
    "# numpy"
   ]
  },
  {
   "cell_type": "code",
   "execution_count": 43,
   "id": "a8892e60-a53d-4fe7-a36e-ca7dd8a7fddb",
   "metadata": {},
   "outputs": [],
   "source": [
    "import numpy as np"
   ]
  },
  {
   "cell_type": "code",
   "execution_count": null,
   "id": "d7e01c0d-4950-4aa9-8511-23c065274264",
   "metadata": {},
   "outputs": [],
   "source": []
  },
  {
   "cell_type": "code",
   "execution_count": 52,
   "id": "5aef51d1-74b1-4ed2-bb34-c657a6d9bc0c",
   "metadata": {},
   "outputs": [
    {
     "data": {
      "text/plain": [
       "array([1., 2., 3., 4.])"
      ]
     },
     "execution_count": 52,
     "metadata": {},
     "output_type": "execute_result"
    }
   ],
   "source": [
    "a = np.array([1, 2, 3, 4.0])\n",
    "a"
   ]
  },
  {
   "cell_type": "code",
   "execution_count": 53,
   "id": "974feee1-26a5-435d-9cb9-067605091ce6",
   "metadata": {},
   "outputs": [
    {
     "data": {
      "text/plain": [
       "dtype('float64')"
      ]
     },
     "execution_count": 53,
     "metadata": {},
     "output_type": "execute_result"
    }
   ],
   "source": [
    "a.dtype"
   ]
  },
  {
   "cell_type": "code",
   "execution_count": 51,
   "id": "c6b4c551-04e7-4a13-9b31-388971e8d707",
   "metadata": {},
   "outputs": [
    {
     "data": {
      "text/plain": [
       "array([1, 2, 9, 4])"
      ]
     },
     "execution_count": 51,
     "metadata": {},
     "output_type": "execute_result"
    }
   ],
   "source": [
    "a[2] = 9.1\n",
    "a"
   ]
  },
  {
   "cell_type": "code",
   "execution_count": 57,
   "id": "5ef2f991-4d24-46d1-b08f-0425d9dea27c",
   "metadata": {},
   "outputs": [
    {
     "data": {
      "text/plain": [
       "array([0., 1., 2., 3., 4.])"
      ]
     },
     "execution_count": 57,
     "metadata": {},
     "output_type": "execute_result"
    }
   ],
   "source": [
    "a = np.array([0, 1, 2, 3, 4], dtype=\"float\")\n",
    "a"
   ]
  },
  {
   "cell_type": "code",
   "execution_count": 58,
   "id": "fe7e6c60-5edd-4353-9954-24fdb753fb89",
   "metadata": {},
   "outputs": [
    {
     "data": {
      "text/plain": [
       "dtype('float64')"
      ]
     },
     "execution_count": 58,
     "metadata": {},
     "output_type": "execute_result"
    }
   ],
   "source": [
    "a.dtype"
   ]
  },
  {
   "cell_type": "code",
   "execution_count": 59,
   "id": "c2adbc9e-97f4-4593-9123-171c7188c578",
   "metadata": {},
   "outputs": [
    {
     "data": {
      "text/plain": [
       "dtype('float32')"
      ]
     },
     "execution_count": 59,
     "metadata": {},
     "output_type": "execute_result"
    }
   ],
   "source": [
    "a = np.array([0, 1, 2, 3, 4], dtype=\"float32\")\n",
    "a.dtype"
   ]
  },
  {
   "cell_type": "code",
   "execution_count": 61,
   "id": "4b662e2e-cc29-4d28-8837-71540e9ea95e",
   "metadata": {},
   "outputs": [
    {
     "name": "stdout",
     "output_type": "stream",
     "text": [
      "a: [0. 1. 2. 3. 4.]\n",
      "b: [0. 1. 2. 3. 4.]\n",
      "a: [0. 6. 2. 3. 4.]\n",
      "b: [0. 6. 2. 3. 4.]\n"
     ]
    }
   ],
   "source": [
    "print(\"a:\", a)\n",
    "b = a # this does not work!!! be careful!\n",
    "print(\"b:\", b)\n",
    "b[1] = 6\n",
    "print(\"a:\", a)\n",
    "print(\"b:\", b)"
   ]
  },
  {
   "cell_type": "code",
   "execution_count": 64,
   "id": "1d289100-7f03-434d-a8ce-b506dcf5e58a",
   "metadata": {},
   "outputs": [
    {
     "name": "stdout",
     "output_type": "stream",
     "text": [
      "a: [0. 1. 2. 3. 4.]\n",
      "b: [0. 1. 2. 3. 4.]\n",
      "a: [0. 1. 2. 3. 4.]\n",
      "b: [0. 6. 2. 3. 4.]\n"
     ]
    }
   ],
   "source": [
    "a = np.array([0, 1, 2, 3, 4], dtype=\"float32\")\n",
    "print(\"a:\", a)\n",
    "b = a.copy()\n",
    "print(\"b:\", b)\n",
    "\n",
    "b[1] = 6\n",
    "\n",
    "print(\"a:\", a)\n",
    "print(\"b:\", b)"
   ]
  },
  {
   "cell_type": "code",
   "execution_count": null,
   "id": "3eeb2dec-2d88-4fd4-b20e-18e12d7e0373",
   "metadata": {},
   "outputs": [],
   "source": []
  },
  {
   "cell_type": "markdown",
   "id": "7994132a-b86b-41f9-be78-6585d6ea5e06",
   "metadata": {},
   "source": [
    "# file I/O"
   ]
  },
  {
   "cell_type": "code",
   "execution_count": 65,
   "id": "b9554061-01d2-4cc2-b58a-9ffa654dd57e",
   "metadata": {},
   "outputs": [],
   "source": [
    "with open(\"a.txt\", \"w\") as f:\n",
    "    f.write(\"sdkfhskdhfhkdsf\\n\")"
   ]
  },
  {
   "cell_type": "code",
   "execution_count": 66,
   "id": "23355409-2c77-4bdc-b19f-3af47a47f5ab",
   "metadata": {},
   "outputs": [],
   "source": [
    "# not recommended\n",
    "# f = open(\"a.txt\", \"w\")\n",
    "# f.write(\"asdadad\")\n",
    "# f.close()"
   ]
  },
  {
   "cell_type": "code",
   "execution_count": null,
   "id": "1b3a321f-c162-4347-b099-5c241c4ceee1",
   "metadata": {},
   "outputs": [],
   "source": []
  },
  {
   "cell_type": "code",
   "execution_count": 72,
   "id": "18b59fb7-c2db-485f-bf7a-150b4a04eb91",
   "metadata": {},
   "outputs": [],
   "source": [
    "with open(\"print_formatting.txt\", \"w\") as f:\n",
    "    f.write(f\"{234.234:.8f}\\t{10:d}\\tstring\\n\")"
   ]
  },
  {
   "cell_type": "code",
   "execution_count": 73,
   "id": "70ef8ed5-f750-421a-b1f1-91bed880a035",
   "metadata": {},
   "outputs": [],
   "source": [
    "# f\"{C} {pos_x[0].8f} {pos_y[0].8f} {pos_z[0].8f}\\n\""
   ]
  },
  {
   "cell_type": "code",
   "execution_count": null,
   "id": "7cc8f920-5ca4-46b2-b96f-b8966ff87a11",
   "metadata": {},
   "outputs": [],
   "source": []
  }
 ],
 "metadata": {
  "kernelspec": {
   "display_name": "Python 3 (ipykernel)",
   "language": "python",
   "name": "python3"
  },
  "language_info": {
   "codemirror_mode": {
    "name": "ipython",
    "version": 3
   },
   "file_extension": ".py",
   "mimetype": "text/x-python",
   "name": "python",
   "nbconvert_exporter": "python",
   "pygments_lexer": "ipython3",
   "version": "3.11.8"
  }
 },
 "nbformat": 4,
 "nbformat_minor": 5
}
