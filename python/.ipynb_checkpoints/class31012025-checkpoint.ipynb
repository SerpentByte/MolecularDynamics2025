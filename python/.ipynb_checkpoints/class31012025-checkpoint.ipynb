{
 "cells": [
  {
   "cell_type": "code",
   "execution_count": 12,
   "id": "01434fe4-24fc-46c5-89a3-8e22a329c796",
   "metadata": {},
   "outputs": [],
   "source": [
    "import numpy as np\n",
    "import matplotlib.pyplot as plt"
   ]
  },
  {
   "cell_type": "code",
   "execution_count": null,
   "id": "eaaa0a7e-7554-488c-bd46-0b367f2dfda2",
   "metadata": {},
   "outputs": [],
   "source": []
  },
  {
   "cell_type": "code",
   "execution_count": 3,
   "id": "cd6ce33b-24e5-4190-b9ec-26bc00510ce3",
   "metadata": {},
   "outputs": [],
   "source": [
    "N = 216"
   ]
  },
  {
   "cell_type": "markdown",
   "id": "1de93baf-9011-4668-a72b-c2d8b5af7855",
   "metadata": {},
   "source": [
    "# some functions"
   ]
  },
  {
   "cell_type": "code",
   "execution_count": 39,
   "id": "3037d6c3-920a-4d35-9489-6f80359a565a",
   "metadata": {},
   "outputs": [],
   "source": [
    "a = np.random.rand(N, 3, 10)"
   ]
  },
  {
   "cell_type": "code",
   "execution_count": 40,
   "id": "1b758515-8a03-4b56-8c75-415306b523e6",
   "metadata": {},
   "outputs": [
    {
     "data": {
      "text/plain": [
       "(array([622., 625., 648., 663., 666., 655., 676., 664., 665., 596.]),\n",
       " array([5.54561235e-05, 1.00025091e-01, 1.99994726e-01, 2.99964362e-01,\n",
       "        3.99933997e-01, 4.99903632e-01, 5.99873267e-01, 6.99842902e-01,\n",
       "        7.99812537e-01, 8.99782173e-01, 9.99751808e-01]),\n",
       " <BarContainer object of 10 artists>)"
      ]
     },
     "execution_count": 40,
     "metadata": {},
     "output_type": "execute_result"
    },
    {
     "data": {
      "image/png": "[encoded data removed]",
      "text/plain": [
       "<Figure size 640x480 with 1 Axes>"
      ]
     },
     "metadata": {},
     "output_type": "display_data"
    }
   ],
   "source": [
    "plt.hist(np.ndarray.flatten(a))"
   ]
  },
  {
   "cell_type": "code",
   "execution_count": 22,
   "id": "cc13d935-f836-451f-9387-f9f69b302d2e",
   "metadata": {},
   "outputs": [
    {
     "data": {
      "text/plain": [
       "(6480,)"
      ]
     },
     "execution_count": 22,
     "metadata": {},
     "output_type": "execute_result"
    }
   ],
   "source": [
    "a.flatten().shape"
   ]
  },
  {
   "cell_type": "code",
   "execution_count": 23,
   "id": "16db01a2-d94f-4daa-b616-bb25a79d90dd",
   "metadata": {},
   "outputs": [
    {
     "data": {
      "text/plain": [
       "6480"
      ]
     },
     "execution_count": 23,
     "metadata": {},
     "output_type": "execute_result"
    }
   ],
   "source": [
    "N*3*10"
   ]
  },
  {
   "cell_type": "code",
   "execution_count": 25,
   "id": "1068227b-db4d-463c-96b1-fa9894ac5c43",
   "metadata": {},
   "outputs": [],
   "source": [
    "a = np.random.normal(size=(6, 3))"
   ]
  },
  {
   "cell_type": "code",
   "execution_count": 33,
   "id": "c64e6e04-3f6c-4166-8ebc-67c376ac6427",
   "metadata": {},
   "outputs": [],
   "source": [
    "a = np.random.randint(low=0, high=10, size=(6, 3))"
   ]
  },
  {
   "cell_type": "code",
   "execution_count": null,
   "id": "2fc13394-76fd-4634-9006-e210cb4f0ab7",
   "metadata": {},
   "outputs": [],
   "source": []
  },
  {
   "cell_type": "code",
   "execution_count": 34,
   "id": "4200f4f3-6211-4244-bd2c-0f909e74c723",
   "metadata": {},
   "outputs": [
    {
     "data": {
      "text/plain": [
       "array([[6, 7, 0],\n",
       "       [8, 3, 2],\n",
       "       [9, 5, 5],\n",
       "       [1, 4, 9],\n",
       "       [3, 2, 0],\n",
       "       [9, 5, 7]])"
      ]
     },
     "execution_count": 34,
     "metadata": {},
     "output_type": "execute_result"
    }
   ],
   "source": [
    "a"
   ]
  },
  {
   "cell_type": "code",
   "execution_count": 35,
   "id": "2b049151-dd1f-46d0-be97-1396f60e441a",
   "metadata": {},
   "outputs": [
    {
     "data": {
      "text/plain": [
       "array([6, 7, 0, 8, 3, 2, 9, 5, 5, 1, 4, 9, 3, 2, 0, 9, 5, 7])"
      ]
     },
     "execution_count": 35,
     "metadata": {},
     "output_type": "execute_result"
    }
   ],
   "source": [
    "np.ndarray.flatten(a, order='C')"
   ]
  },
  {
   "cell_type": "code",
   "execution_count": 38,
   "id": "3755f2ce-9dc9-4344-91c0-00c80cddcf6a",
   "metadata": {},
   "outputs": [
    {
     "data": {
      "text/plain": [
       "array([6, 8, 9, 1, 3, 9, 7, 3, 5, 4, 2, 5, 0, 2, 5, 9, 0, 7])"
      ]
     },
     "execution_count": 38,
     "metadata": {},
     "output_type": "execute_result"
    }
   ],
   "source": [
    "np.ndarray.flatten(a, order='F')"
   ]
  },
  {
   "cell_type": "code",
   "execution_count": null,
   "id": "c1d203b5-2c14-4d4f-9267-34f695422d72",
   "metadata": {},
   "outputs": [],
   "source": []
  },
  {
   "cell_type": "code",
   "execution_count": 55,
   "id": "19dd2b88-a93d-493f-bed6-a2e4f1647650",
   "metadata": {},
   "outputs": [],
   "source": [
    "a = np.array([[0, 1],\n",
    "              [1, 0]])"
   ]
  },
  {
   "cell_type": "code",
   "execution_count": 56,
   "id": "c11b347f-5fcd-4d06-a262-ebeb51872c60",
   "metadata": {},
   "outputs": [
    {
     "data": {
      "text/plain": [
       "array([[0., 1.],\n",
       "       [1., 0.]])"
      ]
     },
     "execution_count": 56,
     "metadata": {},
     "output_type": "execute_result"
    }
   ],
   "source": [
    "np.linalg.inv(a)"
   ]
  },
  {
   "cell_type": "code",
   "execution_count": 57,
   "id": "4ddda4b4-8982-4e4a-9d22-8aabe289421d",
   "metadata": {},
   "outputs": [
    {
     "data": {
      "text/plain": [
       "array([ 1., -1.])"
      ]
     },
     "execution_count": 57,
     "metadata": {},
     "output_type": "execute_result"
    }
   ],
   "source": [
    "np.linalg.eigvals(a)"
   ]
  },
  {
   "cell_type": "code",
   "execution_count": 58,
   "id": "ff8d7f20-9245-4960-8134-a423f54a7229",
   "metadata": {},
   "outputs": [
    {
     "data": {
      "text/plain": [
       "EigResult(eigenvalues=array([ 1., -1.]), eigenvectors=array([[ 0.70710678, -0.70710678],\n",
       "       [ 0.70710678,  0.70710678]]))"
      ]
     },
     "execution_count": 58,
     "metadata": {},
     "output_type": "execute_result"
    }
   ],
   "source": [
    "np.linalg.eig(a)"
   ]
  },
  {
   "cell_type": "code",
   "execution_count": 127,
   "id": "b623446c-d383-44ca-8fb7-08af87284654",
   "metadata": {},
   "outputs": [
    {
     "name": "stdout",
     "output_type": "stream",
     "text": [
      "[[[3 4 4 9]\n",
      "  [0 7 9 1]\n",
      "  [8 6 2 0]]\n",
      "\n",
      " [[1 9 3 5]\n",
      "  [5 2 2 9]\n",
      "  [7 3 0 1]]\n",
      "\n",
      " [[4 3 8 3]\n",
      "  [7 9 5 6]\n",
      "  [5 8 2 4]]\n",
      "\n",
      " [[4 5 3 8]\n",
      "  [8 2 4 3]\n",
      "  [0 2 5 3]]\n",
      "\n",
      " [[3 9 0 4]\n",
      "  [1 3 3 7]\n",
      "  [7 9 0 4]]\n",
      "\n",
      " [[4 5 9 0]\n",
      "  [4 1 5 7]\n",
      "  [2 5 0 7]]]\n",
      "(6, 3, 4)\n",
      "[[0 4 2 0]\n",
      " [1 2 0 1]\n",
      " [4 3 2 3]\n",
      " [0 2 3 3]\n",
      " [1 3 0 4]\n",
      " [2 1 0 0]]\n"
     ]
    },
    {
     "data": {
      "text/plain": [
       "(6, 3)"
      ]
     },
     "execution_count": 127,
     "metadata": {},
     "output_type": "execute_result"
    }
   ],
   "source": [
    "a = np.random.randint(low=0, high=10, size=(6, 3, 4))\n",
    "print(a)\n",
    "print(a.shape)\n",
    "print(np.min(a, axis=1))\n",
    "np.min(a, axis=-1).shape"
   ]
  },
  {
   "cell_type": "code",
   "execution_count": 128,
   "id": "e5701f4d-4ab3-4357-823d-4b28420f1237",
   "metadata": {},
   "outputs": [
    {
     "data": {
      "text/plain": [
       "(6, 3, 4)"
      ]
     },
     "execution_count": 128,
     "metadata": {},
     "output_type": "execute_result"
    }
   ],
   "source": [
    "a.shape"
   ]
  },
  {
   "cell_type": "code",
   "execution_count": 131,
   "id": "737731b2-c27f-43f4-8eb5-3be3d9c4381d",
   "metadata": {},
   "outputs": [
    {
     "data": {
      "text/plain": [
       "array([[[3, 4, 4, 9],\n",
       "        [0, 7, 9, 1],\n",
       "        [8, 6, 2, 0]],\n",
       "\n",
       "       [[1, 9, 3, 5],\n",
       "        [5, 2, 2, 9],\n",
       "        [7, 3, 0, 1]]])"
      ]
     },
     "execution_count": 131,
     "metadata": {},
     "output_type": "execute_result"
    }
   ],
   "source": [
    "a[:2]"
   ]
  },
  {
   "cell_type": "code",
   "execution_count": 136,
   "id": "bc03e813-8b7d-4485-9a6f-03a036692396",
   "metadata": {},
   "outputs": [
    {
     "data": {
      "text/plain": [
       "array([[[3, 4, 4, 9]],\n",
       "\n",
       "       [[1, 9, 3, 5]],\n",
       "\n",
       "       [[4, 3, 8, 3]],\n",
       "\n",
       "       [[4, 5, 3, 8]],\n",
       "\n",
       "       [[3, 9, 0, 4]],\n",
       "\n",
       "       [[4, 5, 9, 0]]])"
      ]
     },
     "execution_count": 136,
     "metadata": {},
     "output_type": "execute_result"
    }
   ],
   "source": [
    "a[:, :1, :]"
   ]
  },
  {
   "cell_type": "code",
   "execution_count": null,
   "id": "883898d6-135b-4764-843e-ecb0584977f2",
   "metadata": {},
   "outputs": [],
   "source": []
  },
  {
   "cell_type": "code",
   "execution_count": 140,
   "id": "59a35ff2-b705-4d77-a7a8-7fd86be0ad1f",
   "metadata": {},
   "outputs": [],
   "source": [
    "a = np.random.randint(low=0, high=10, size=(6, 6))"
   ]
  },
  {
   "cell_type": "code",
   "execution_count": 145,
   "id": "dae55a5a-8e72-4841-b893-d6ed0a002e69",
   "metadata": {},
   "outputs": [
    {
     "data": {
      "text/plain": [
       "array([[6, 2, 6, 6],\n",
       "       [0, 3, 4, 0],\n",
       "       [4, 6, 8, 9]])"
      ]
     },
     "execution_count": 145,
     "metadata": {},
     "output_type": "execute_result"
    }
   ],
   "source": [
    "a[1:4, 1:5]"
   ]
  },
  {
   "cell_type": "code",
   "execution_count": 143,
   "id": "39ac4031-0f6b-46dc-a7b2-3aa7967a5557",
   "metadata": {},
   "outputs": [
    {
     "data": {
      "text/plain": [
       "array([[6, 0, 0, 8, 5, 9],\n",
       "       [6, 6, 2, 6, 6, 5],\n",
       "       [2, 0, 3, 4, 0, 6],\n",
       "       [6, 4, 6, 8, 9, 0],\n",
       "       [8, 4, 8, 3, 7, 6],\n",
       "       [8, 3, 7, 9, 5, 5]])"
      ]
     },
     "execution_count": 143,
     "metadata": {},
     "output_type": "execute_result"
    }
   ],
   "source": [
    "a"
   ]
  },
  {
   "cell_type": "code",
   "execution_count": 149,
   "id": "9a0807fa-e9ee-4dce-9c97-1c664e71b74e",
   "metadata": {},
   "outputs": [
    {
     "data": {
      "text/plain": [
       "array([0, 6, 0, 0])"
      ]
     },
     "execution_count": 149,
     "metadata": {},
     "output_type": "execute_result"
    }
   ],
   "source": [
    "np.diag(a, k=2)"
   ]
  },
  {
   "cell_type": "markdown",
   "id": "bec86510-d0a4-4673-bd50-b32af3c19ab5",
   "metadata": {},
   "source": [
    "# plotting"
   ]
  },
  {
   "cell_type": "code",
   "execution_count": 80,
   "id": "ffd16ac7-1526-4892-a115-36ca75d78fbb",
   "metadata": {},
   "outputs": [],
   "source": [
    "x = np.linspace(0, 2*np.pi, 50)\n",
    "y = np.sin(x)\n",
    "yp = np.cos(x)"
   ]
  },
  {
   "cell_type": "code",
   "execution_count": 97,
   "id": "df882a9f-62f3-45af-886d-fcf17e272c75",
   "metadata": {},
   "outputs": [
    {
     "data": {
      "image/png": "[encoded data removed]",
      "text/plain": [
       "<Figure size 400x400 with 1 Axes>"
      ]
     },
     "metadata": {},
     "output_type": "display_data"
    }
   ],
   "source": [
    "fig, ax = plt.subplots(1, 1, figsize=(4, 4))\n",
    "\n",
    "ax.plot(x, y, lw=3, color=\"tab:red\", ls=\"-.\",\n",
    "         marker='o', markeredgecolor=\"black\", label=\"sin(x)\")\n",
    "\n",
    "ax.plot(x, yp, lw=3, color=\"tab:blue\", ls=\"--\",\n",
    "         marker='v', markeredgecolor=\"black\", label=\"cos(x)\")\n",
    "\n",
    "ax.set_xlabel(\"x\")\n",
    "ax.set_ylabel(\"f(x)\")\n",
    "ax.set_xlim(x[0], x[-1])\n",
    "ax.set_ylim(y.min(), y.max())\n",
    "\n",
    "ax.legend()\n",
    "\n",
    "fig.savefig(\"trig.png\", dpi=300)\n",
    "fig.savefig(\"trig.pdf\", dpi=300)\n",
    "\n",
    "plt.show() # this closes the figure. hence savefig after this just prints a blank"
   ]
  },
  {
   "cell_type": "code",
   "execution_count": null,
   "id": "0df75c87-7ac1-4c2a-ad93-ef20550422ab",
   "metadata": {},
   "outputs": [],
   "source": []
  },
  {
   "cell_type": "code",
   "execution_count": 125,
   "id": "777eff3a-d0f8-4511-ac5c-848e9264b738",
   "metadata": {},
   "outputs": [
    {
     "name": "stderr",
     "output_type": "stream",
     "text": [
      "No artists with labels found to put in legend.  Note that artists whose label start with an underscore are ignored when legend() is called with no argument.\n",
      "No artists with labels found to put in legend.  Note that artists whose label start with an underscore are ignored when legend() is called with no argument.\n"
     ]
    },
    {
     "data": {
      "image/png": "[encoded data removed]",
      "text/plain": [
       "<Figure size 1200x800 with 4 Axes>"
      ]
     },
     "metadata": {},
     "output_type": "display_data"
    }
   ],
   "source": [
    "fig, ax = plt.subplots(2, 2, figsize=(12, 8))\n",
    "\n",
    "ax = ax.flatten()\n",
    "\n",
    "ax[0].plot(x, y, lw=3, color=\"tab:red\", ls=\"-.\",\n",
    "         marker='o', markeredgecolor=\"black\", label=\"sin(x)\")\n",
    "\n",
    "ax[1].plot(x, yp, lw=3, color=\"tab:blue\", ls=\"--\",\n",
    "         marker='v', markeredgecolor=\"black\", label=\"cos(x)\")\n",
    "\n",
    "for a in ax[-2:]: # it will not include 2\n",
    "    a.set_xlabel(\"x\")\n",
    "    a.set_ylabel(\"f(x)\")\n",
    "    a.set_xlim(x[0], x[-1])\n",
    "    a.set_ylim(y.min(), y.max())\n",
    "    a.legend()\n",
    "\n",
    "fig.subplots_adjust(wspace=0.4) # wspace --> horizontal, hspace --> vertical\n",
    "\n",
    "fig.savefig(\"trig.png\", dpi=300)\n",
    "fig.savefig(\"trig.pdf\", dpi=300)\n",
    "\n",
    "plt.show() # this closes the figure. hence savefig after this just prints a blank"
   ]
  },
  {
   "cell_type": "code",
   "execution_count": 123,
   "id": "dc668792-c155-4c2f-b5a4-435820530714",
   "metadata": {},
   "outputs": [
    {
     "data": {
      "text/plain": [
       "array([<Axes: xlabel='x', ylabel='f(x)'>,\n",
       "       <Axes: xlabel='x', ylabel='f(x)'>,\n",
       "       <Axes: xlabel='x', ylabel='f(x)'>,\n",
       "       <Axes: xlabel='x', ylabel='f(x)'>], dtype=object)"
      ]
     },
     "execution_count": 123,
     "metadata": {},
     "output_type": "execute_result"
    }
   ],
   "source": [
    "ax"
   ]
  },
  {
   "cell_type": "code",
   "execution_count": null,
   "id": "cb4e4eff-58d0-4af7-b4bb-6781be2d28b7",
   "metadata": {},
   "outputs": [],
   "source": []
  }
 ],
 "metadata": {
  "kernelspec": {
   "display_name": "Python 3 (ipykernel)",
   "language": "python",
   "name": "python3"
  },
  "language_info": {
   "codemirror_mode": {
    "name": "ipython",
    "version": 3
   },
   "file_extension": ".py",
   "mimetype": "text/x-python",
   "name": "python",
   "nbconvert_exporter": "python",
   "pygments_lexer": "ipython3",
   "version": "3.11.8"
  }
 },
 "nbformat": 4,
 "nbformat_minor": 5
}
