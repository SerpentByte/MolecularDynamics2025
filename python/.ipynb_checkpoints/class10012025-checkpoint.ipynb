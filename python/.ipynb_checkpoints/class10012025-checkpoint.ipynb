{
 "cells": [
  {
   "cell_type": "markdown",
   "id": "f2bafea7-9978-42b6-9b69-3234ad879192",
   "metadata": {},
   "source": [
    "# basics"
   ]
  },
  {
   "cell_type": "code",
   "execution_count": 1,
   "id": "6e9b2f50-5765-401c-a82c-4f66a8b77a57",
   "metadata": {},
   "outputs": [
    {
     "name": "stdout",
     "output_type": "stream",
     "text": [
      "Hello World!\n"
     ]
    }
   ],
   "source": [
    "print(\"Hello World!\")"
   ]
  },
  {
   "cell_type": "code",
   "execution_count": null,
   "id": "fb23aa1f-9708-4b4e-87bb-c7d8eafe6c47",
   "metadata": {},
   "outputs": [],
   "source": []
  },
  {
   "cell_type": "code",
   "execution_count": 2,
   "id": "93dcc11e-a6df-4fe8-b089-c2fe0b279c69",
   "metadata": {},
   "outputs": [],
   "source": [
    "a = 1 # assignment operator\n",
    "b = a # assigns the value of a to b\n",
    "\n",
    "# use hash to put comments"
   ]
  },
  {
   "cell_type": "code",
   "execution_count": null,
   "id": "bacdf085-3092-4f2e-bd9e-7a67c8a7ac4a",
   "metadata": {},
   "outputs": [],
   "source": []
  },
  {
   "cell_type": "code",
   "execution_count": 3,
   "id": "2ef2fa15-20c9-49d4-a813-8cdc0910bfe8",
   "metadata": {},
   "outputs": [
    {
     "name": "stdout",
     "output_type": "stream",
     "text": [
      "1\n"
     ]
    }
   ],
   "source": [
    "print(a)"
   ]
  },
  {
   "cell_type": "code",
   "execution_count": 4,
   "id": "9330115e-d193-4b57-b5cc-fc7dae434043",
   "metadata": {},
   "outputs": [
    {
     "name": "stdout",
     "output_type": "stream",
     "text": [
      "1\n"
     ]
    }
   ],
   "source": [
    "print(b)"
   ]
  },
  {
   "cell_type": "code",
   "execution_count": null,
   "id": "6f003011-e05b-421d-8713-6ec95f10b72c",
   "metadata": {},
   "outputs": [],
   "source": []
  },
  {
   "cell_type": "code",
   "execution_count": 5,
   "id": "96f477cd-9aa5-465e-a694-374075987b04",
   "metadata": {},
   "outputs": [],
   "source": [
    "a, b, c = 1, 2, 3"
   ]
  },
  {
   "cell_type": "code",
   "execution_count": 10,
   "id": "076bb5d1-7359-4c7d-b42f-feea82163b33",
   "metadata": {},
   "outputs": [],
   "source": [
    "sum = a + b\n",
    "divide = a/b\n",
    "multiply = a*b\n",
    "sub = a - b"
   ]
  },
  {
   "cell_type": "code",
   "execution_count": 11,
   "id": "317348f5-f885-4308-a12e-c44b141a0745",
   "metadata": {},
   "outputs": [
    {
     "name": "stdout",
     "output_type": "stream",
     "text": [
      "3 0.5 2 -1\n"
     ]
    }
   ],
   "source": [
    "print(sum, divide, multiply, sub)"
   ]
  },
  {
   "cell_type": "code",
   "execution_count": null,
   "id": "2afd5952-28fc-4f6c-962f-f000c402e73f",
   "metadata": {},
   "outputs": [],
   "source": []
  },
  {
   "cell_type": "markdown",
   "id": "7981a740-dc85-4b81-8dee-432527b40d61",
   "metadata": {},
   "source": [
    "## datatypes and type conversions"
   ]
  },
  {
   "cell_type": "markdown",
   "id": "21bcd9fe-7b58-423e-94f6-6d5492c5a7c5",
   "metadata": {},
   "source": [
    "the basic datatypes are integer (int), float, boolean"
   ]
  },
  {
   "cell_type": "code",
   "execution_count": 18,
   "id": "35f5fcca-3d9b-42de-998d-6eb77e877632",
   "metadata": {},
   "outputs": [
    {
     "data": {
      "text/plain": [
       "int"
      ]
     },
     "execution_count": 18,
     "metadata": {},
     "output_type": "execute_result"
    }
   ],
   "source": [
    "a = 1\n",
    "type(a)"
   ]
  },
  {
   "cell_type": "code",
   "execution_count": null,
   "id": "b8886434-96d7-490b-b87e-99723088276d",
   "metadata": {},
   "outputs": [],
   "source": []
  },
  {
   "cell_type": "markdown",
   "id": "ce575203-ca00-4cb4-87c2-c902f362b20b",
   "metadata": {},
   "source": [
    "in python, int/int division by default gets converted to float."
   ]
  },
  {
   "cell_type": "code",
   "execution_count": null,
   "id": "84328df1-c915-4b69-a206-62472a1f6c9e",
   "metadata": {},
   "outputs": [],
   "source": []
  },
  {
   "cell_type": "code",
   "execution_count": 23,
   "id": "f6c9fd31-66b4-4cf4-9103-9034cdd27091",
   "metadata": {},
   "outputs": [
    {
     "data": {
      "text/plain": [
       "int"
      ]
     },
     "execution_count": 23,
     "metadata": {},
     "output_type": "execute_result"
    }
   ],
   "source": [
    "a = 1\n",
    "type(a)"
   ]
  },
  {
   "cell_type": "code",
   "execution_count": 28,
   "id": "86c3ffb1-0d74-4e8f-bfa5-110614e48087",
   "metadata": {},
   "outputs": [],
   "source": [
    "a = int(False)"
   ]
  },
  {
   "cell_type": "code",
   "execution_count": null,
   "id": "724099b2-1681-4572-b55e-a0760e083463",
   "metadata": {},
   "outputs": [],
   "source": []
  },
  {
   "cell_type": "markdown",
   "id": "f1694e0b-25ed-4195-a166-55a7519780e9",
   "metadata": {},
   "source": [
    "any non-zero number is regarded as True for boolean"
   ]
  },
  {
   "cell_type": "code",
   "execution_count": 30,
   "id": "d4768000-0feb-49f1-b3bc-db42b366aaf4",
   "metadata": {},
   "outputs": [
    {
     "data": {
      "text/plain": [
       "False"
      ]
     },
     "execution_count": 30,
     "metadata": {},
     "output_type": "execute_result"
    }
   ],
   "source": [
    "bool(0)"
   ]
  },
  {
   "cell_type": "code",
   "execution_count": 31,
   "id": "ab33b872-5e2e-461d-8a58-52e1ffcce81d",
   "metadata": {},
   "outputs": [
    {
     "data": {
      "text/plain": [
       "True"
      ]
     },
     "execution_count": 31,
     "metadata": {},
     "output_type": "execute_result"
    }
   ],
   "source": [
    "bool(1)"
   ]
  },
  {
   "cell_type": "code",
   "execution_count": 32,
   "id": "ead26b02-bfb5-4305-a8da-fc12ece420f1",
   "metadata": {},
   "outputs": [
    {
     "data": {
      "text/plain": [
       "True"
      ]
     },
     "execution_count": 32,
     "metadata": {},
     "output_type": "execute_result"
    }
   ],
   "source": [
    "bool(2)"
   ]
  },
  {
   "cell_type": "code",
   "execution_count": 33,
   "id": "5f2511a3-ff94-4180-92b5-94c22a8da491",
   "metadata": {},
   "outputs": [
    {
     "data": {
      "text/plain": [
       "True"
      ]
     },
     "execution_count": 33,
     "metadata": {},
     "output_type": "execute_result"
    }
   ],
   "source": [
    "bool(-1)"
   ]
  },
  {
   "cell_type": "code",
   "execution_count": 35,
   "id": "10bcc96a-14c8-41f0-a9c7-4eaf78f5c066",
   "metadata": {},
   "outputs": [
    {
     "name": "stdout",
     "output_type": "stream",
     "text": [
      "<class 'int'>\n"
     ]
    },
    {
     "data": {
      "text/plain": [
       "bool"
      ]
     },
     "execution_count": 35,
     "metadata": {},
     "output_type": "execute_result"
    }
   ],
   "source": [
    "a = 1\n",
    "print(type(a))\n",
    "a = False\n",
    "type(a)"
   ]
  },
  {
   "cell_type": "code",
   "execution_count": null,
   "id": "75f8701a-d7aa-4aef-84df-90da6d6bfa12",
   "metadata": {},
   "outputs": [],
   "source": []
  },
  {
   "cell_type": "code",
   "execution_count": 37,
   "id": "9a85fbcc-cbd9-4748-87fe-31912c8edd58",
   "metadata": {},
   "outputs": [],
   "source": [
    "s = \"anakjad\""
   ]
  },
  {
   "cell_type": "code",
   "execution_count": 38,
   "id": "8500309c-6e57-4617-9cd6-af92884acd1d",
   "metadata": {},
   "outputs": [],
   "source": [
    "s = 'adadsadsad'"
   ]
  },
  {
   "cell_type": "markdown",
   "id": "e020b985-8518-4ab2-aa16-deedd7d680fb",
   "metadata": {},
   "source": [
    "use single quotes for characters ```'a'``` and double quotes for strings ```\"sfdsfsdf\"```"
   ]
  },
  {
   "cell_type": "code",
   "execution_count": 40,
   "id": "1f9bb09c-88ee-4ef0-858c-435565659d67",
   "metadata": {},
   "outputs": [
    {
     "data": {
      "text/plain": [
       "str"
      ]
     },
     "execution_count": 40,
     "metadata": {},
     "output_type": "execute_result"
    }
   ],
   "source": [
    "type('a') # treates a character as a string"
   ]
  },
  {
   "cell_type": "code",
   "execution_count": null,
   "id": "22a4decb-d64c-40a8-9ed7-fff2a9eb3e16",
   "metadata": {},
   "outputs": [],
   "source": []
  },
  {
   "cell_type": "markdown",
   "id": "ec5760b8-be72-44bf-a0de-e6c3f72c70ce",
   "metadata": {},
   "source": [
    "# conditional statements"
   ]
  },
  {
   "cell_type": "markdown",
   "id": "7491b3a3-8153-4ba5-8952-11079234d35d",
   "metadata": {},
   "source": [
    "if, else, elif (else if)"
   ]
  },
  {
   "cell_type": "code",
   "execution_count": 50,
   "id": "ecb5647f-cc05-428d-bbfe-d91288d9dcd7",
   "metadata": {},
   "outputs": [
    {
     "data": {
      "text/plain": [
       "False"
      ]
     },
     "execution_count": 50,
     "metadata": {},
     "output_type": "execute_result"
    }
   ],
   "source": [
    "a = 345\n",
    "\n",
    "a > 10000"
   ]
  },
  {
   "cell_type": "code",
   "execution_count": null,
   "id": "adee3496-7f9d-4371-850b-0004ea01a1a9",
   "metadata": {},
   "outputs": [],
   "source": []
  },
  {
   "cell_type": "code",
   "execution_count": 52,
   "id": "063645c7-6115-402b-a93b-a41ca5a0cb07",
   "metadata": {},
   "outputs": [
    {
     "name": "stdout",
     "output_type": "stream",
     "text": [
      "sdfjldskjf\n"
     ]
    }
   ],
   "source": [
    "if a > 10000:\n",
    "    print(a) # convention is to use 4 spaces\n",
    "elif a < 10000 and a > 1000:\n",
    "    print(\"daddfdf\")\n",
    "else:\n",
    "    print(\"sdfjldskjf\")"
   ]
  },
  {
   "cell_type": "code",
   "execution_count": null,
   "id": "f0cbfc8a-d136-4319-bc6d-57108c770550",
   "metadata": {},
   "outputs": [],
   "source": []
  },
  {
   "cell_type": "code",
   "execution_count": 56,
   "id": "a984c552-b3e7-48be-9325-c8a576b68bff",
   "metadata": {},
   "outputs": [
    {
     "name": "stdout",
     "output_type": "stream",
     "text": [
      "sdfjldskjf\n"
     ]
    }
   ],
   "source": [
    "a = 150\n",
    "\n",
    "if a > 10000:\n",
    "    if a > 20000:\n",
    "        print(\"> 20000\")\n",
    "    else:\n",
    "        print(\"< 20000\")\n",
    "\n",
    "elif a < 10000 and a > 1000:\n",
    "    print(\"daddfdf\")\n",
    "else:\n",
    "    print(\"sdfjldskjf\")"
   ]
  },
  {
   "cell_type": "code",
   "execution_count": null,
   "id": "19e99541-3482-4600-bc87-bd25ed3fd978",
   "metadata": {},
   "outputs": [],
   "source": []
  },
  {
   "cell_type": "code",
   "execution_count": 59,
   "id": "482e2996-0210-478c-93e2-980420a46354",
   "metadata": {},
   "outputs": [
    {
     "name": "stdout",
     "output_type": "stream",
     "text": [
      "a < 2000\n"
     ]
    }
   ],
   "source": [
    "a = 900\n",
    "\n",
    "if a > 1000:\n",
    "    print(\"a > 1000\")\n",
    "elif a < 2000:\n",
    "    print(\"a < 2000\")\n",
    "else:\n",
    "    print(\"ddaf\")"
   ]
  },
  {
   "cell_type": "code",
   "execution_count": null,
   "id": "0d9fe101-c38d-40ca-8251-1d8ce8a0c7ba",
   "metadata": {},
   "outputs": [],
   "source": []
  },
  {
   "cell_type": "code",
   "execution_count": 68,
   "id": "d34ce6ed-aa64-4cc2-8259-03d86ccbdbc9",
   "metadata": {},
   "outputs": [],
   "source": [
    "a = 4\n",
    "\n",
    "b = 10 if a > 4 else 20 # shorter way to write the same if statement\n",
    "\n",
    "# if a > 4:\n",
    "#     b = 10\n",
    "# else:\n",
    "#     b = 20"
   ]
  },
  {
   "cell_type": "code",
   "execution_count": 71,
   "id": "bab90e19-126c-408d-8d08-a7f719607d77",
   "metadata": {},
   "outputs": [
    {
     "name": "stdout",
     "output_type": "stream",
     "text": [
      "> 1\n"
     ]
    }
   ],
   "source": [
    "a = 0\n",
    "print(\"1\") if a > 1 else print(\"> 1\")"
   ]
  },
  {
   "cell_type": "code",
   "execution_count": null,
   "id": "3998b2f6-8d7f-415b-829b-8f1f0f9a7863",
   "metadata": {},
   "outputs": [],
   "source": []
  },
  {
   "cell_type": "markdown",
   "id": "8b63c3e3-f748-438d-bda5-257709ced888",
   "metadata": {},
   "source": [
    "# loops"
   ]
  },
  {
   "cell_type": "markdown",
   "id": "d5a7ae7e-779a-416d-83f3-c84ece6c8522",
   "metadata": {},
   "source": [
    "3 kinds of loops: for, while, and do while. ```do while``` is not present in python. in do-while, the block is executed first </br>\n",
    "followed by the condition check."
   ]
  },
  {
   "cell_type": "markdown",
   "id": "792bd61d-73ac-4034-a62c-cc1ebffd7260",
   "metadata": {},
   "source": [
    "## for"
   ]
  },
  {
   "cell_type": "code",
   "execution_count": 2,
   "id": "f727fff5-9d62-4800-8cda-98fe350b8c34",
   "metadata": {},
   "outputs": [
    {
     "name": "stdout",
     "output_type": "stream",
     "text": [
      "0\n",
      "1\n",
      "2\n",
      "3\n",
      "4\n",
      "5\n",
      "6\n",
      "7\n",
      "8\n",
      "9\n"
     ]
    }
   ],
   "source": [
    "for i in range(0, 10): # goes from 0-9\n",
    "    print(i)    "
   ]
  },
  {
   "cell_type": "code",
   "execution_count": 3,
   "id": "e9d791f6-62bf-43b4-a852-acfdd360a3cd",
   "metadata": {
    "scrolled": true
   },
   "outputs": [
    {
     "name": "stdout",
     "output_type": "stream",
     "text": [
      "0\n",
      "1\n",
      "2\n",
      "3\n",
      "4\n",
      "5\n",
      "6\n",
      "7\n",
      "8\n",
      "9\n"
     ]
    }
   ],
   "source": [
    "i = 0\n",
    "while i < 10:\n",
    "    print(i)\n",
    "    i += 1 # i = i + 1"
   ]
  },
  {
   "cell_type": "markdown",
   "id": "096970fa-629b-4c2f-9168-a452b9131344",
   "metadata": {},
   "source": [
    "i -= 1 ( i = i -1 )</br>\n",
    "i *= 1 ( i = i * 1 )</br>\n",
    "i /= 1 ( i = 1 / 1 )</br>"
   ]
  },
  {
   "cell_type": "code",
   "execution_count": null,
   "id": "4426ea6b-c42d-43f5-bf35-e5d9aba2a62b",
   "metadata": {},
   "outputs": [],
   "source": []
  },
  {
   "cell_type": "markdown",
   "id": "ab2593b2-6680-4bd2-b3e5-34e76a7ce1e4",
   "metadata": {},
   "source": [
    "# functions"
   ]
  },
  {
   "cell_type": "code",
   "execution_count": 11,
   "id": "c9392158-bc2c-4b74-9f45-cd8a8a50e77d",
   "metadata": {},
   "outputs": [],
   "source": [
    "def add(a, b):\n",
    "    \"\"\"this function adds two numbers\n",
    "a : a number\n",
    "b : a number\n",
    "returns the sum of a and b\"\"\"\n",
    "    c = a + b\n",
    "    return c"
   ]
  },
  {
   "cell_type": "code",
   "execution_count": null,
   "id": "6d0c5978-9496-434c-8ae7-768df570f57b",
   "metadata": {},
   "outputs": [],
   "source": []
  },
  {
   "cell_type": "code",
   "execution_count": 16,
   "id": "4e343d2e-dc23-4936-8d1c-33f8fd1c2f07",
   "metadata": {},
   "outputs": [
    {
     "data": {
      "text/plain": [
       "2"
      ]
     },
     "execution_count": 16,
     "metadata": {},
     "output_type": "execute_result"
    }
   ],
   "source": [
    "add(True, 1)"
   ]
  },
  {
   "cell_type": "code",
   "execution_count": 13,
   "id": "b0dc40ef-1ac3-4194-84d0-9bfa085e6d3d",
   "metadata": {},
   "outputs": [
    {
     "data": {
      "text/plain": [
       "\u001b[0;31mSignature:\u001b[0m \u001b[0madd\u001b[0m\u001b[0;34m(\u001b[0m\u001b[0ma\u001b[0m\u001b[0;34m,\u001b[0m \u001b[0mb\u001b[0m\u001b[0;34m)\u001b[0m\u001b[0;34m\u001b[0m\u001b[0;34m\u001b[0m\u001b[0m\n",
       "\u001b[0;31mDocstring:\u001b[0m\n",
       "this function adds two numbers\n",
       "a : a number\n",
       "b : a number\n",
       "returns the sum of a and b\n",
       "\u001b[0;31mFile:\u001b[0m      /tmp/ipykernel_120487/2770236570.py\n",
       "\u001b[0;31mType:\u001b[0m      function"
      ]
     },
     "metadata": {},
     "output_type": "display_data"
    }
   ],
   "source": [
    "add?"
   ]
  },
  {
   "cell_type": "code",
   "execution_count": null,
   "id": "8278597a-2d5b-4930-8ffe-4624ccfae3d9",
   "metadata": {},
   "outputs": [],
   "source": []
  },
  {
   "cell_type": "code",
   "execution_count": 14,
   "id": "0f29c262-e39d-4993-8ea2-efb474d14faf",
   "metadata": {},
   "outputs": [],
   "source": [
    "def add_and_multiply(a, b):\n",
    "    sum = a + b\n",
    "    mul = a*b\n",
    "\n",
    "    return sum, mul"
   ]
  },
  {
   "cell_type": "code",
   "execution_count": null,
   "id": "fb3302a6-1ff0-4252-aeaf-0c93e599aa09",
   "metadata": {},
   "outputs": [],
   "source": []
  },
  {
   "cell_type": "code",
   "execution_count": 15,
   "id": "2927a284-998a-4397-a36a-dce628b38bed",
   "metadata": {},
   "outputs": [
    {
     "data": {
      "text/plain": [
       "(5, 6)"
      ]
     },
     "execution_count": 15,
     "metadata": {},
     "output_type": "execute_result"
    }
   ],
   "source": [
    "add_and_multiply(2, 3)"
   ]
  },
  {
   "cell_type": "code",
   "execution_count": null,
   "id": "740c939f-add9-4f2c-a70b-e356260838b4",
   "metadata": {},
   "outputs": [],
   "source": []
  },
  {
   "cell_type": "markdown",
   "id": "3181e97b-e71a-400d-a64c-2d980c761f1a",
   "metadata": {},
   "source": [
    "# next class we will start with lists and move on to numpy"
   ]
  },
  {
   "cell_type": "code",
   "execution_count": null,
   "id": "e3d70345-cb30-4a2a-ba95-2eff86eedf78",
   "metadata": {},
   "outputs": [],
   "source": []
  },
  {
   "cell_type": "markdown",
   "id": "e4f9b6be-f801-43a9-be3c-43cc8780d1a5",
   "metadata": {},
   "source": [
    "this ic not python, this is C\n",
    "</br>\n",
    "\n",
    "```\n",
    "int add(int a, int b)\n",
    "{\n",
    "int c = a + b;\n",
    "return c;\n",
    "}\n",
    "\n",
    "float add(float a, float b)\n",
    "{\n",
    "float c = a + b;\n",
    "return c;\n",
    "}\n",
    "```"
   ]
  },
  {
   "cell_type": "code",
   "execution_count": null,
   "id": "c49daa86-54a4-48ff-abda-477315c2aeb8",
   "metadata": {},
   "outputs": [],
   "source": []
  }
 ],
 "metadata": {
  "kernelspec": {
   "display_name": "Python 3 (ipykernel)",
   "language": "python",
   "name": "python3"
  },
  "language_info": {
   "codemirror_mode": {
    "name": "ipython",
    "version": 3
   },
   "file_extension": ".py",
   "mimetype": "text/x-python",
   "name": "python",
   "nbconvert_exporter": "python",
   "pygments_lexer": "ipython3",
   "version": "3.11.8"
  }
 },
 "nbformat": 4,
 "nbformat_minor": 5
}
