{
 "cells": [
  {
   "cell_type": "markdown",
   "id": "7866f14e-9920-486b-95bb-fb614d0008cc",
   "metadata": {},
   "source": [
    "# Assignment 3\n",
    "\n",
    "## Deadline: 27-01-2025"
   ]
  },
  {
   "cell_type": "markdown",
   "id": "3b381551-cfa2-40cc-8562-62c194ebf756",
   "metadata": {},
   "source": [
    "## Details of the system\n",
    "### N = 216\n",
    "### rho = 0.8442\n",
    "### mass = 1.0\n",
    "### $\\sigma$ = 1.0\n",
    "### $\\epsilon$ = 1.0\n",
    "### r$_\\text{cut}$ = 2.5$\\sigma$\n",
    "### dt = 0.001"
   ]
  },
  {
   "cell_type": "markdown",
   "id": "787b1e37-e46c-4065-aa94-ac01cf30a5e1",
   "metadata": {},
   "source": [
    " "
   ]
  },
  {
   "cell_type": "markdown",
   "id": "cbc59687-1bbe-4166-a5b0-9d54f1c04907",
   "metadata": {},
   "source": [
    "## Instructions\n",
    "### 1. Initialize the system according to [assignment1](https://github.com/SerpentByte/MolecularDynamics2025/blob/main/assignments/assignment1.ipynb).\n",
    "### 2. Reuse the functions and codes written for [assignment2](https://github.com/SerpentByte/MolecularDynamics2025/blob/main/assignments/assignment2.ipynb).\n",
    "### 3. Implement the verlet algorithm in a function. The function updates the positions and velocities by a single step.\n",
    "### 4. Update the coordinates by a single step. PBC needs to be applied after each coodinate update.\n",
    "### 5. Save the updated coordinates in a file called updated_coords.txt in the format given below\n",
    "```\n",
    "x[0]     y[0]     z[0]\n",
    "x[1]     y[1]     z[1]\n",
    "x[2]     y[2]     z[2]\n",
    "---------------\n",
    "x[N-1]   y[N-1]   z[N-1]\n",
    "\n",
    "```\n",
    "### 6. Update the velocities, remove the COM and save the updated velocites in a file called updated_velocities.txt in the format given below.\n",
    "```\n",
    "vx[0]     vy[0]     vz[0]\n",
    "vx[1]     vy[1]     vz[1]\n",
    "vx[2]     vy[2]     vz[2]\n",
    "---------------\n",
    "vx[N-1]   vy[N-1]   vz[N-1]\n",
    "\n",
    "```\n",
    "### 7. In a single zip file, please include the 3 files mentioned above (updated_coords.txt + updated_velocities.txt + .xyz file + code).\n",
    "### 8. the zip file should be named in the following manner: ```a3_<first name>_<first letter or last name>.zip```. \n",
    "### example: ```a3_wasim_a.zip```"
   ]
  }
 ],
 "metadata": {
  "kernelspec": {
   "display_name": "Python 3 (ipykernel)",
   "language": "python",
   "name": "python3"
  },
  "language_info": {
   "codemirror_mode": {
    "name": "ipython",
    "version": 3
   },
   "file_extension": ".py",
   "mimetype": "text/x-python",
   "name": "python",
   "nbconvert_exporter": "python",
   "pygments_lexer": "ipython3",
   "version": "3.11.8"
  }
 },
 "nbformat": 4,
 "nbformat_minor": 5
}
