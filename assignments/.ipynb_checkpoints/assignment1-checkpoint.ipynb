{
 "cells": [
  {
   "cell_type": "markdown",
   "id": "b8c53988-f745-4caa-aa9b-03853ad1c292",
   "metadata": {},
   "source": [
    "# Assignment 1"
   ]
  },
  {
   "cell_type": "markdown",
   "id": "1680456a-9e18-4fe9-b138-6839e3a80a5e",
   "metadata": {},
   "source": [
    "## Deadline: 17-01-2025"
   ]
  },
  {
   "cell_type": "markdown",
   "id": "5d04df67-405b-4390-8238-8a995c74f3c5",
   "metadata": {},
   "source": [
    " "
   ]
  },
  {
   "cell_type": "markdown",
   "id": "9db5d57c-8063-4117-863a-10f367052159",
   "metadata": {},
   "source": [
    " "
   ]
  },
  {
   "cell_type": "markdown",
   "id": "1bf90b41-f6a1-43ce-9997-26401d6502b6",
   "metadata": {},
   "source": [
    "### Let there be $N$ particles with mass $m$ and diameter $\\sigma$, present in a cubic box of side $a$, with a density of $\\rho$.\n",
    "### For $N=216$, $m=1$, $\\sigma=1$ and $\\rho=0.8442$\n",
    "### 1. Initialize the coordinates of the particles on a cubic lattice.\n",
    "### 2. Write the coordinates in a [XYZ file](https://en.wikipedia.org/wiki/XYZ_file_format) assuming the atom name to be Ar.\n",
    "### 3. Open VMD to visualize the initial configuration. Take a screenshot.\n",
    "### 4. Initialize the velocities based on a normal distrubition with $\\mu=0$, $\\sigma=k_BT$ (assume $k_BT=1$)"
   ]
  },
  {
   "cell_type": "markdown",
   "id": "6c0edb79-9a91-4f1b-b5b3-810492d54866",
   "metadata": {},
   "source": [
    " "
   ]
  },
  {
   "cell_type": "markdown",
   "id": "dd88edb6-9cfe-4822-a252-55be4ee07688",
   "metadata": {},
   "source": [
    "## Submission guidelines:\n",
    "## 1. the velocities need to be shared in the following format in a text file named ```velocities.txt```\n",
    "```\n",
    "vx[0]    vy[0]    vz[0]\n",
    "vx[1]    vy[1]    vz[1]\n",
    ".................\n",
    "vx[N-1]  vy[N-1]  vz[N-1]\n",
    "```\n",
    "## 2. The coordinates should be shared in the specified XYZ file format.\n",
    "## 3. Please take a screenshot of the VMD visualization and keep it.\n",
    "## 4. You may use a jupyter notebook for the assignment (.ipynb file) or a python script (.py). Please use a single file (ipynb/py).\n",
    "## 5. In a single zip file, please include the 4 files mentioned above (velocities.txt + .xyz file + screenshot + .ipynb/py file).\n",
    "## 6. the zip file should be named in the following manner: ```a1_<first name>_<first letter or last name>.zip```. \n",
    "### example: ```a1_wasim_a.zip```"
   ]
  },
  {
   "cell_type": "markdown",
   "id": "e45e857d-cc44-4282-af37-005132d3c6a1",
   "metadata": {},
   "source": [
    " "
   ]
  },
  {
   "cell_type": "markdown",
   "id": "5e065df1-c5d2-41fd-8a57-228b7f89b026",
   "metadata": {},
   "source": [
    "# VMD download"
   ]
  },
  {
   "cell_type": "markdown",
   "id": "6b19f06c-1ff2-4aed-82bd-63edabcdb439",
   "metadata": {},
   "source": [
    "### An account needs to be created for VMD download. Here is the [link](https://www.ks.uiuc.edu/Development/Download/download.cgi?PackageName=VMD).\n",
    "### Download VMD 1.9.3 for Linux/Windows and 1.9.4 Alpha for Mac.\n",
    "### - LINUX_64 OpenGL, CUDA, OptiX, OSPRay  for linux\n",
    "### - MacOS 11.x, ARM64 (64-bit \"M1\" Macs) for MacOS\n",
    "### - Windows OpenGL, CUDA for Windows\n",
    "\n",
    "### NOTE: Please try installating VMD before the class on Wednesday (15-01-2025). In case of any problems regarding installation, please let me know and I will help you out. I will be present at my desk tomorrow from 10 am to 3 pm and from 12 noon to 5.30 pm on Wednesday. However, please make sure to have VMD installed by Wednesday end in case you face any problems during installation. Complete submission of the assignment requires a working VMD installation."
   ]
  },
  {
   "cell_type": "markdown",
   "id": "9abc92dd-5f5c-41dd-b18c-f89214baa755",
   "metadata": {},
   "source": [
    " "
   ]
  }
 ],
 "metadata": {
  "kernelspec": {
   "display_name": "Python 3 (ipykernel)",
   "language": "python",
   "name": "python3"
  },
  "language_info": {
   "codemirror_mode": {
    "name": "ipython",
    "version": 3
   },
   "file_extension": ".py",
   "mimetype": "text/x-python",
   "name": "python",
   "nbconvert_exporter": "python",
   "pygments_lexer": "ipython3",
   "version": "3.11.8"
  }
 },
 "nbformat": 4,
 "nbformat_minor": 5
}
