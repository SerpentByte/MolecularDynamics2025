{
 "cells": [
  {
   "cell_type": "markdown",
   "id": "113ff5d6-d905-42d1-a1cf-2c9ba2d1c24d",
   "metadata": {},
   "source": [
    "# Assignment 1"
   ]
  },
  {
   "cell_type": "markdown",
   "id": "81fa0574-5e42-4e8e-ac15-759bde86a051",
   "metadata": {},
   "source": [
    "## Deadline: 22-01-2025"
   ]
  },
  {
   "cell_type": "markdown",
   "id": "badb2b85-83e9-422a-8b7c-bbb87b115c88",
   "metadata": {},
   "source": [
    " "
   ]
  },
  {
   "cell_type": "markdown",
   "id": "a52942f1-e8f9-4c1a-92d8-921a6701f75a",
   "metadata": {},
   "source": [
    "## 1. Implementation of periodic boundary conditions"
   ]
  },
  {
   "cell_type": "markdown",
   "id": "ef89643c-459e-4957-afd7-e3a050efc5b3",
   "metadata": {},
   "source": [
    "### Write a function which accepts coordinates (x, y, z) and the box dimensions, applies periodic boundary conditions to the coordinates and returns the new coordinates.\n",
    "### C/C++/Fotran users can write the same function where it accepts a coordinate (x/y/z) and the respective box dimension."
   ]
  },
  {
   "cell_type": "markdown",
   "id": "3ae615b7-7cae-4ca3-97ae-c72f05fe3a25",
   "metadata": {},
   "source": [
    " "
   ]
  },
  {
   "cell_type": "markdown",
   "id": "86c4f70e-17f3-47aa-ac90-81eb82e51ab0",
   "metadata": {},
   "source": [
    " "
   ]
  },
  {
   "cell_type": "markdown",
   "id": "cdee730c-a61d-47bf-9dc2-fcdbe9cf7769",
   "metadata": {},
   "source": [
    " "
   ]
  },
  {
   "cell_type": "markdown",
   "id": "386942eb-cd8b-467c-b9dc-42a89d691b6c",
   "metadata": {},
   "source": [
    "## 2. Implementation of minimum image convention"
   ]
  },
  {
   "cell_type": "markdown",
   "id": "c2db2d59-33f4-4c65-9d02-7402786e7a00",
   "metadata": {},
   "source": [
    "### Write a function that accepts a pair of coordinates {(x1, y1, z1) and (x2, y2, z2)} and the box dimensions, calculates the distance between them using the minimum image convention and returns the calculated distance.\n",
    "\n",
    "### C/C++/Fortran users can write the same function where it accepts a pair of coordinates along a direction {(x1, x2)/(y1, y2)/(z1, z2)} and the respective box dimension, calcaulates the distance between those two points along the direction and returns that."
   ]
  },
  {
   "cell_type": "markdown",
   "id": "5ade5b7c-e3ed-4b26-b92e-6686a9588c5a",
   "metadata": {},
   "source": [
    " "
   ]
  },
  {
   "cell_type": "markdown",
   "id": "95546c0a-4b86-4d40-b678-db7776b3a8e7",
   "metadata": {},
   "source": [
    " "
   ]
  },
  {
   "cell_type": "markdown",
   "id": "d9ada985-7c67-4b7d-8320-e439497e440e",
   "metadata": {},
   "source": [
    " "
   ]
  },
  {
   "cell_type": "markdown",
   "id": "4317a94d-ccb7-4e5c-bf71-ed9b9a263e7e",
   "metadata": {},
   "source": [
    "## 3. A funtion to calculate the forces on each particle given a set of coordinates and the box dimenion"
   ]
  },
  {
   "cell_type": "markdown",
   "id": "7863b456-446d-4148-b434-d73c3bb4ab8f",
   "metadata": {},
   "source": [
    "### Write a function which accepts a set of coordinates (x, y, z) and box dimensions, calculates the forces among those particles and updates the force arrays or returns a force array.\n",
    "### Output the force array to a file named ```force.txt```. The output format is given below. For any comments or headers that you would like to include in the file, start the header/comment with a `#` symbol. The values can either be `space` or `tab` separated.\n",
    "```\n",
    "fx[0]        fy[0]      fz[0]\n",
    "fx[1]        fy[1]      fz[1]\n",
    "fx[2]        fy[2]      fz[2]\n",
    ".......................\n",
    "fx[N-1]    fy[N-1]    fz[N-1]\n",
    "```"
   ]
  },
  {
   "cell_type": "markdown",
   "id": "74e099bd-f13d-421a-a5af-bfe2b7388f0e",
   "metadata": {},
   "source": [
    " "
   ]
  },
  {
   "cell_type": "markdown",
   "id": "c820185b-8358-43ae-8d43-f5ed8195cc1f",
   "metadata": {},
   "source": [
    "## Use the code below to generate the coordinates to be used.\n",
    "### *<b>Please use the coordinates from this code only. usage of any other coordinates does not count towards the completion of the assignment.</b>*"
   ]
  },
  {
   "cell_type": "markdown",
   "id": "864ef4c5-9c26-4c41-8a41-a562f9f4e44d",
   "metadata": {},
   "source": [
    "#### python\n",
    "```python\n",
    "import numpy as np\n",
    "n = 6\n",
    "spacing = 1.058079\n",
    "coords = np.array([[i, j, k] for i in range(n) for j in range(n) for k in range(n)])*spacing\n",
    "```"
   ]
  },
  {
   "cell_type": "markdown",
   "id": "6f6c9065-bd4b-4168-96be-b04b1d5c4f4b",
   "metadata": {},
   "source": [
    "#### C/C++\n",
    "```C/C++\n",
    "double *x = (double*) malloc(216*sizeof(double));\n",
    "double *y = (double*) malloc(216*sizeof(double));\n",
    "double *z = (double*) malloc(216*sizeof(double));\n",
    "\n",
    "int ctr = 0;\n",
    "double spacing = 1.058079;\n",
    "\n",
    "for(int i=0; i<6; i++)\n",
    "{\n",
    "    for(int j=0; j<6; j++)\n",
    "    {\n",
    "        for(int k=0; k<6; k++)\n",
    "        {\n",
    "            x[ctr] = i*spacing;\n",
    "            y[ctr] = j*spacing;\n",
    "            z[ctr++] = k*spacing;\n",
    "        }\n",
    "    }\n",
    "}\n",
    "```"
   ]
  },
  {
   "cell_type": "markdown",
   "id": "3343f44c-76ec-49ac-8c0d-ea624a453d96",
   "metadata": {},
   "source": [
    " "
   ]
  }
 ],
 "metadata": {
  "kernelspec": {
   "display_name": "Python 3 (ipykernel)",
   "language": "python",
   "name": "python3"
  },
  "language_info": {
   "codemirror_mode": {
    "name": "ipython",
    "version": 3
   },
   "file_extension": ".py",
   "mimetype": "text/x-python",
   "name": "python",
   "nbconvert_exporter": "python",
   "pygments_lexer": "ipython3",
   "version": "3.11.8"
  }
 },
 "nbformat": 4,
 "nbformat_minor": 5
}
