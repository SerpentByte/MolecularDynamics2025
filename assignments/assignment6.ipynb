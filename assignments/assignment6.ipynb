{
 "cells": [
  {
   "cell_type": "markdown",
   "id": "7866f14e-9920-486b-95bb-fb614d0008cc",
   "metadata": {},
   "source": [
    "# Assignment 6\n",
    "\n",
    "## Deadline: 16-02-2025"
   ]
  },
  {
   "cell_type": "markdown",
   "id": "3b381551-cfa2-40cc-8562-62c194ebf756",
   "metadata": {},
   "source": [
    "## Details of the system\n",
    "### N = 216\n",
    "### mass = 1.0 g\n",
    "### T$_0$ = 87.36 K\n",
    "### $\\sigma$ = 1.0 nm\n",
    "### $\\epsilon$ = 1.0 kJ/mol\n",
    "### r$_\\text{cut}$ = 2.5$\\sigma$\n",
    "### dt = 0.001 ps"
   ]
  },
  {
   "cell_type": "markdown",
   "id": "5fbd78b4-0730-4e07-8a86-60748e05c965",
   "metadata": {},
   "source": [
    " "
   ]
  },
  {
   "cell_type": "markdown",
   "id": "cbc59687-1bbe-4166-a5b0-9d54f1c04907",
   "metadata": {},
   "source": [
    "## Instructions\n",
    "### 1. Initialize the system using `gmx insert-molecules` and `LJ.gro` in a box with sides 6.348 nm. name this file init.gro.\n",
    "### 2. Edit the topol.top and set $\\sigma=1.0$ nm.\n",
    "### 3. Perform energy minimization. name the energy minimization tpr and files `em`.\n",
    "### 4. Use `em.gro` to pre process the `run.tpr`.\n",
    "### 5. Run NVT simulation using `run.tpr` for 100000 steps.\n",
    "### 6. Calculate energies using `gmx energy` and `run.edr` file. name this file `energies.xvg`. \n",
    "### 7. Plot KE, PE, total energy vs time and save it in PDF/PNG format. \n",
    "### 8. Submit the plot as the assignment submission."
   ]
  }
 ],
 "metadata": {
  "kernelspec": {
   "display_name": "Python 3 (ipykernel)",
   "language": "python",
   "name": "python3"
  },
  "language_info": {
   "codemirror_mode": {
    "name": "ipython",
    "version": 3
   },
   "file_extension": ".py",
   "mimetype": "text/x-python",
   "name": "python",
   "nbconvert_exporter": "python",
   "pygments_lexer": "ipython3",
   "version": "3.11.8"
  }
 },
 "nbformat": 4,
 "nbformat_minor": 5
}
