{
 "cells": [
  {
   "cell_type": "markdown",
   "id": "7866f14e-9920-486b-95bb-fb614d0008cc",
   "metadata": {},
   "source": [
    "# Assignment 4\n",
    "\n",
    "## Deadline: 10-02-2025"
   ]
  },
  {
   "cell_type": "markdown",
   "id": "3b381551-cfa2-40cc-8562-62c194ebf756",
   "metadata": {},
   "source": [
    "## Details of the system\n",
    "### N = 216\n",
    "### rho = 0.8442\n",
    "### mass = 1.0\n",
    "### $\\sigma$ = 1.0\n",
    "### $\\epsilon$ = 1.0\n",
    "### r$_\\text{cut}$ = 2.5$\\sigma$\n",
    "### dt = 0.001\n",
    "### kBT = 1.0"
   ]
  },
  {
   "cell_type": "markdown",
   "id": "787b1e37-e46c-4065-aa94-ac01cf30a5e1",
   "metadata": {},
   "source": [
    " "
   ]
  },
  {
   "cell_type": "markdown",
   "id": "cbc59687-1bbe-4166-a5b0-9d54f1c04907",
   "metadata": {},
   "source": [
    "## Instructions\n",
    "### 1. Initialize the system on a cubic lattice whose lattice spacing is 1.0. write this to a gro file named init.gro.\n",
    "### 2. Initalize the velocties to a normal distribution with $\\mu$ = 0.0 and $\\sigma$=0.1.\n",
    "### 3. Perform NVE moleculear dynamics simulations starting with the above initial conditions for 20000 steps.\n",
    "### 4. Save the kinetic, potential and total energies at each 10-th step, including 0. Please see below on how the output file should look like. The name of this output file has to be energies.txt.\n",
    "### 5. Use the function write_gro() to write the coordinates and velocities at each 10-th step of the simulation, including zero. The name of this output file has to be md.gro.\n",
    "### 6. In a single figure, plot KE, PE and total energy vs. time."
   ]
  },
  {
   "cell_type": "markdown",
   "id": "c6cce475-ea04-43a4-b633-26f08090997d",
   "metadata": {},
   "source": [
    " "
   ]
  },
  {
   "cell_type": "markdown",
   "id": "d235e87d-aa39-4225-aaaa-8060d023e591",
   "metadata": {},
   "source": [
    "#### sample energies.txt file\n",
    "```text\n",
    "# time, step, KE, PE, TE\n",
    "0, 0, <value>, <value>, <value>\n",
    "0.01, 10, <value>, <value>, <value>\n",
    "0.02, 20 <value>, <value>, <value>\n",
    "```"
   ]
  },
  {
   "cell_type": "markdown",
   "id": "ae11ac6f-37fe-49b6-9833-a4fb2039e2ef",
   "metadata": {},
   "source": [
    " "
   ]
  },
  {
   "cell_type": "markdown",
   "id": "39eb0d81-8bab-478e-a261-71ee8df3d4df",
   "metadata": {},
   "source": [
    "#### use the following **write_gro()** function\n",
    "```python\n",
    "def write_gro(file_pointer, coordinates, velocities, box_dims=(10.0, 10.0, 10.0), residue_name=\"Ar\", atom_name=\"Ar\"):\n",
    "    r\"\"\"\n",
    "    Appends a frame to a .gro file.\n",
    "\n",
    "    Parameters:\n",
    "    - file_pointer: Open file object in append mode.\n",
    "    - coordinates: array of (x, y, z) tuples for atom positions in nm.\n",
    "    - velocities:array of (vx, vy, vz) tuples for atom velocities in nm/ps.\n",
    "    - box_dims: array of (x, y, z) for box dimensions in nm.\n",
    "    - residue_name: Residue name (default: 'Ar').\n",
    "    - atom_name: Atom name (default: 'Ar').\n",
    "    \"\"\"\n",
    "    num_atoms = len(coordinates)\n",
    "\n",
    "    # Write frame header and number of atoms\n",
    "    file_pointer.write(\"Appended Frame\\n\")\n",
    "    file_pointer.write(f\"{num_atoms:5d}\\n\")\n",
    "\n",
    "    # Write atom information\n",
    "    for i, ((x, y, z), (vx, vy, vz)) in enumerate(zip(coordinates, velocities), start=1):\n",
    "        residue_number = 1  # Default residue number\n",
    "        atom_number = i\n",
    "        file_pointer.write(f\"{residue_number:5d}{residue_name:<5}{atom_name:>5}{atom_number:5d}{x:8.3f}{y:8.3f}{z:8.3f}{vx:8.4f}{vy:8.4f}{vz:8.4f}\\n\")\n",
    "\n",
    "    # Write box dimensions\n",
    "    file_pointer.write(f\"{box_dims[0]:10.5f}{box_dims[1]:10.5f}{box_dims[2]:10.5f}\\n\")\n",
    "```"
   ]
  }
 ],
 "metadata": {
  "kernelspec": {
   "display_name": "Python 3 (ipykernel)",
   "language": "python",
   "name": "python3"
  },
  "language_info": {
   "codemirror_mode": {
    "name": "ipython",
    "version": 3
   },
   "file_extension": ".py",
   "mimetype": "text/x-python",
   "name": "python",
   "nbconvert_exporter": "python",
   "pygments_lexer": "ipython3",
   "version": "3.11.8"
  }
 },
 "nbformat": 4,
 "nbformat_minor": 5
}
